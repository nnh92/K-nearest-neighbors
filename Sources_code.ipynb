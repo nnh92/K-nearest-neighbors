{
  "nbformat": 4,
  "nbformat_minor": 0,
  "metadata": {
    "colab": {
      "name": "Sources code.ipynb",
      "provenance": [],
      "authorship_tag": "ABX9TyPrFtXZJMLOKWYY2HJlhA69",
      "include_colab_link": true
    },
    "kernelspec": {
      "name": "python3",
      "display_name": "Python 3"
    },
    "language_info": {
      "name": "python"
    }
  },
  "cells": [
    {
      "cell_type": "markdown",
      "metadata": {
        "id": "view-in-github",
        "colab_type": "text"
      },
      "source": [
        "<a href=\"https://colab.research.google.com/github/nnh92/K-nearest-neighbors/blob/main/Sources_code.ipynb\" target=\"_parent\"><img src=\"https://colab.research.google.com/assets/colab-badge.svg\" alt=\"Open In Colab\"/></a>"
      ]
    },
    {
      "cell_type": "code",
      "metadata": {
        "id": "4C8Cz4BF3JqH",
        "colab": {
          "base_uri": "https://localhost:8080/"
        },
        "outputId": "d7cdf7ab-e627-494d-ff29-fae4831dae23"
      },
      "source": [
        "import numpy as np\n",
        "import matplotlib.pyplot as plt\n",
        "from sklearn import neighbors, datasets\n",
        "\n",
        "iris = datasets.load_iris()\n",
        "iris_X = iris.data\n",
        "iris_Y = iris.target\n",
        "\n",
        "print('Number of class: ', len(np.unique(iris_Y)))\n",
        "print('Number of point', len(iris_Y))\n",
        "\n",
        "X0 = iris_X[iris_Y == 0,:]\n",
        "#print(iris)\n",
        "X1 = iris_X[iris_Y == 1,:]\n",
        "X2 = iris_X[iris_Y == 2,:]\n",
        "\n",
        "from sklearn.model_selection import train_test_split\n",
        "X_train, X_test, Y_train, Y_test = train_test_split(iris_X, iris_Y, test_size = 50)\n",
        "\n",
        "print('Train size: ',len(Y_train))\n",
        "print('Test size: ',len(Y_test))\n",
        "\n",
        "clf = neighbors.KNeighborsClassifier(n_neighbors= 1, p = 10)\n",
        "clf.fit(X_train, Y_train)\n",
        "y_pred = clf.predict(X_test)\n",
        "\n",
        "print('Predicted labels:', y_pred[0:10])\n",
        "print('Grouth truth    :', Y_test[0:10])\n",
        "\n",
        "from sklearn.metrics import accuracy_score\n",
        "print('Accuracy of 1NN: ', 100*accuracy_score(y_pred, Y_test))"
      ],
      "execution_count": 50,
      "outputs": [
        {
          "output_type": "stream",
          "text": [
            "Number of class:  3\n",
            "Number of point 150\n",
            "Train size:  100\n",
            "Test size:  50\n",
            "Predicted labels: [2 0 2 1 2 1 2 0 2 1]\n",
            "Grouth truth    : [2 0 2 1 2 1 2 0 1 1]\n",
            "Accuracy of 1NN:  98.0\n"
          ],
          "name": "stdout"
        }
      ]
    },
    {
      "cell_type": "code",
      "metadata": {
        "colab": {
          "base_uri": "https://localhost:8080/"
        },
        "id": "8MKTYDyd47c3",
        "outputId": "339ded47-ed65-422b-dbac-86b63cba16d8"
      },
      "source": [
        "!pip install python-mnist"
      ],
      "execution_count": 2,
      "outputs": [
        {
          "output_type": "stream",
          "text": [
            "Collecting python-mnist\n",
            "  Downloading https://files.pythonhosted.org/packages/64/f0/6086b84427c3bf156ec0b3c2f9dfc1d770b35f942b9ed8a64f5229776a80/python_mnist-0.7-py2.py3-none-any.whl\n",
            "Installing collected packages: python-mnist\n",
            "Successfully installed python-mnist-0.7\n"
          ],
          "name": "stdout"
        }
      ]
    }
  ]
}