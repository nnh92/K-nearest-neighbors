{
  "nbformat": 4,
  "nbformat_minor": 0,
  "metadata": {
    "colab": {
      "name": "Sources code.ipynb",
      "provenance": [],
      "authorship_tag": "ABX9TyMujiuwJgM0Nt8gODz06bjl",
      "include_colab_link": true
    },
    "kernelspec": {
      "name": "python3",
      "display_name": "Python 3"
    },
    "language_info": {
      "name": "python"
    }
  },
  "cells": [
    {
      "cell_type": "markdown",
      "metadata": {
        "id": "view-in-github",
        "colab_type": "text"
      },
      "source": [
        "<a href=\"https://colab.research.google.com/github/nnh92/K-nearest-neighbors/blob/main/Sources_code.ipynb\" target=\"_parent\"><img src=\"https://colab.research.google.com/assets/colab-badge.svg\" alt=\"Open In Colab\"/></a>"
      ]
    },
    {
      "cell_type": "code",
      "metadata": {
        "id": "4C8Cz4BF3JqH",
        "colab": {
          "base_uri": "https://localhost:8080/"
        },
        "outputId": "2fbedee8-8878-4a16-eebd-f0be862ad850"
      },
      "source": [
        "import numpy as np\n",
        "import matplotlib.pyplot as plt\n",
        "from sklearn import neighbors, datasets\n",
        "\n",
        "iris = datasets.load_iris()\n",
        "iris_X = iris.data\n",
        "iris_Y = iris.target\n",
        "\n",
        "print('Number of class: ', len(np.unique(iris_Y)))\n",
        "print('Number of point', len(iris_Y))\n",
        "\n",
        "X0 = iris_X[iris_Y == 0,:]\n",
        "#print(iris)\n",
        "X1 = iris_X[iris_Y == 1,:]\n",
        "X2 = iris_X[iris_Y == 2,:]\n",
        "\n",
        "from sklearn.model_selection import train_test_split\n",
        "X_train, X_test, Y_train, Y_test = train_test_split(iris_X, iris_Y, test_size = 50)\n",
        "\n",
        "print('Train size: ',len(Y_train))\n",
        "print('Test size : ',len(Y_test))\n",
        "\n",
        "clf = neighbors.KNeighborsClassifier(n_neighbors= 10, p = 2, weights= 'distance')\n",
        "clf.fit(X_train, Y_train)\n",
        "y_pred = clf.predict(X_test)\n",
        "\n",
        "print('Predicted labels:', y_pred[0:50])\n",
        "print('Grouth truth    :', Y_test[0:50])\n",
        "\n",
        "from sklearn.metrics import accuracy_score\n",
        "print('Accuracy of 1NN: ', 100*accuracy_score(y_pred, Y_test))"
      ],
      "execution_count": 75,
      "outputs": [
        {
          "output_type": "stream",
          "text": [
            "Number of class:  3\n",
            "Number of point 150\n",
            "Train size:  100\n",
            "Test size:  50\n",
            "Predicted labels: [0 0 0 0 0 2 2 0 2 2 2 2 0 2 0 0 2 1 2 2 2 2 1 1 2 0 0 1 1 1 1 1 1 1 2 2 1\n",
            " 2 2 0 1 2 1 2 1 2 2 2 2 0]\n",
            "Grouth truth    : [0 0 0 0 0 2 2 0 2 2 2 2 0 2 0 0 2 1 2 2 2 2 1 1 2 0 0 1 1 1 1 1 1 1 2 2 1\n",
            " 2 2 0 1 2 1 1 1 2 2 1 2 0]\n",
            "Accuracy of 1NN:  96.0\n"
          ],
          "name": "stdout"
        }
      ]
    },
    {
      "cell_type": "code",
      "metadata": {
        "colab": {
          "base_uri": "https://localhost:8080/"
        },
        "id": "8MKTYDyd47c3",
        "outputId": "711492f4-adb3-4db2-e885-24fde7a15690"
      },
      "source": [
        "!pip install python-mnist"
      ],
      "execution_count": 63,
      "outputs": [
        {
          "output_type": "stream",
          "text": [
            "Requirement already satisfied: python-mnist in /usr/local/lib/python3.7/dist-packages (0.7)\n"
          ],
          "name": "stdout"
        }
      ]
    }
  ]
}